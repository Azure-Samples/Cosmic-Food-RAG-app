{
 "cells": [
  {
   "cell_type": "markdown",
   "metadata": {},
   "source": [
    "# Install Required Libraries"
   ]
  },
  {
   "cell_type": "code",
   "execution_count": null,
   "metadata": {},
   "outputs": [],
   "source": [
    "%pip install langchain==0.2.5\n",
    "%pip install langchain-openai==0.1.8\n",
    "%pip install pymongo==4.7.3"
   ]
  },
  {
   "cell_type": "markdown",
   "metadata": {},
   "source": [
    "# Load Environment Variables "
   ]
  },
  {
   "cell_type": "code",
   "execution_count": null,
   "metadata": {},
   "outputs": [],
   "source": [
    "# Create .env file if it doesn't exist\n",
    "%cp -n .env.example .env"
   ]
  },
  {
   "cell_type": "code",
   "execution_count": 2,
   "metadata": {},
   "outputs": [
    {
     "data": {
      "text/plain": [
       "True"
      ]
     },
     "execution_count": 2,
     "metadata": {},
     "output_type": "execute_result"
    }
   ],
   "source": [
    "# load the environment variables from .env file\n",
    "import os\n",
    "\n",
    "from dotenv import load_dotenv\n",
    "\n",
    "load_dotenv()"
   ]
  },
  {
   "cell_type": "markdown",
   "metadata": {},
   "source": [
    "# Initialize OpenAI Client"
   ]
  },
  {
   "cell_type": "markdown",
   "metadata": {},
   "source": [
    "Save the `api_type`, `api_base`, `api_version`, and `api_key` as global variables to avoid the need to supply them later in code."
   ]
  },
  {
   "cell_type": "code",
   "execution_count": 3,
   "metadata": {},
   "outputs": [],
   "source": [
    "import openai\n",
    "\n",
    "openai.api_type = os.getenv(\"OPENAI_API_TYPE\", \"azure\")\n",
    "openai.api_base = os.getenv(\"AZURE_OPENAI_ENDPOINT\", \"https://<YOUR-OPENAI-DEPLOYMENT-NAME>.openai.azure.com/\")\n",
    "openai.api_version = os.getenv(\"OPENAI_API_VERSION\", \"2023-09-15-preview\")\n",
    "openai.api_key = os.getenv(\"OPENAI_API_KEY\", \"<YOUR-DEPLOYMENT-KEY>\")"
   ]
  },
  {
   "cell_type": "markdown",
   "metadata": {},
   "source": [
    "# Intialize the MongoDB Client"
   ]
  },
  {
   "cell_type": "code",
   "execution_count": 4,
   "metadata": {},
   "outputs": [
    {
     "name": "stderr",
     "output_type": "stream",
     "text": [
      "/tmp/ipykernel_11099/3617200806.py:9: UserWarning: You appear to be connected to a CosmosDB cluster. For more information regarding feature compatibility and support please visit https://www.mongodb.com/supportability/cosmosdb\n",
      "  mongo_client = MongoClient(mongo_connection_string)\n"
     ]
    }
   ],
   "source": [
    "from pymongo import MongoClient\n",
    "\n",
    "# Read and Store Environment variables\n",
    "mongo_connection_string = os.getenv(\"AZURE_COSMOS_CONNECTION_STRING\", \"<YOUR-COSMOS-DB-CONNECTION-STRING>\")\n",
    "collection_name = os.getenv(\"AZURE_COSMOS_COLLECTION_NAME\", \"collectionName\")\n",
    "database_name = os.getenv(\"AZURE_COSMOS_DATABASE_NAME\", \"DatabaseName\")\n",
    "\n",
    "# Initialize the MongoClient\n",
    "mongo_client = MongoClient(mongo_connection_string)\n",
    "\n",
    "# Create the database if it doesn't exist\n",
    "db = mongo_client[database_name]\n",
    "\n",
    "# Create the collection if it doesn't exist\n",
    "collection = db[collection_name]"
   ]
  },
  {
   "cell_type": "markdown",
   "metadata": {},
   "source": [
    "# Load JSON Data"
   ]
  },
  {
   "cell_type": "code",
   "execution_count": 5,
   "metadata": {},
   "outputs": [],
   "source": [
    "import json\n",
    "\n",
    "from langchain.docstore.document import Document\n",
    "\n",
    "SOURCE_FILE_NAME = \"./src/data/food_items.json\"\n",
    "\n",
    "def read_data(file_path) -> list[Document]:\n",
    "    # Load JSON file\n",
    "    with open(file_path) as file:\n",
    "        json_data = json.load(file)\n",
    "\n",
    "\n",
    "    documents = []\n",
    "    absolute_path = os.path.abspath(file_path)\n",
    "    # Process each item in the JSON data\n",
    "    for idx, item in enumerate(json_data):\n",
    "        documents.append(\n",
    "            Document(\n",
    "                page_content=json.dumps(item),\n",
    "                metadata={'source': absolute_path, 'seq_num': idx+1}\n",
    "            )\n",
    "        )\n",
    "\n",
    "    return documents"
   ]
  },
  {
   "cell_type": "code",
   "execution_count": 6,
   "metadata": {},
   "outputs": [],
   "source": [
    "json_data = read_data(SOURCE_FILE_NAME)"
   ]
  },
  {
   "cell_type": "code",
   "execution_count": 7,
   "metadata": {},
   "outputs": [
    {
     "name": "stdout",
     "output_type": "stream",
     "text": [
      "page_content='{\"category\": \"Smoothies\", \"name\": \"Jimmy Jam Smoothie\", \"description\": \"Berries n kale, strawberries, bananas, blueberries kale, tropical fruit blend, and dragon fruit. Our fruity tasty smoothies are blended to perfection.\", \"price\": \"5.49 USD\"}' metadata={'source': '/home/john/repos/Cosmic-Food-RAG-app/src/data/food_items.json', 'seq_num': 2}\n"
     ]
    }
   ],
   "source": [
    "# Display a sample from the data\n",
    "print(json_data[1])"
   ]
  },
  {
   "cell_type": "markdown",
   "metadata": {},
   "source": [
    "# Initialize the Embeddings Client"
   ]
  },
  {
   "cell_type": "code",
   "execution_count": 8,
   "metadata": {},
   "outputs": [],
   "source": [
    "from langchain_openai import AzureOpenAIEmbeddings\n",
    "\n",
    "openai_embeddings_model = os.getenv(\"AZURE_OPENAI_EMBEDDINGS_MODEL_NAME\", \"text-embedding-ada-002\")\n",
    "openai_embeddings_deployment = os.getenv(\"AZURE_OPENAI_EMBEDDINGS_DEPLOYMENT_NAME\", \"text-embedding\")\n",
    "\n",
    "azure_openai_embeddings: AzureOpenAIEmbeddings = AzureOpenAIEmbeddings(\n",
    "    model=openai_embeddings_model,\n",
    "    azure_deployment=openai_embeddings_deployment,\n",
    ")"
   ]
  },
  {
   "cell_type": "markdown",
   "metadata": {},
   "source": [
    "# Generate and Save Embeddings to MongoDB"
   ]
  },
  {
   "cell_type": "code",
   "execution_count": 20,
   "metadata": {},
   "outputs": [],
   "source": [
    "from langchain_community.vectorstores.azure_cosmos_db import AzureCosmosDBVectorSearch\n",
    "\n",
    "index_name = os.getenv(\"AZURE_COSMOS_INDEX_NAME\", \"indexName\")\n",
    "\n",
    "# Only Run this the first time you open the notebook\n",
    "# Create embeddings from the data, save to the database and return a connection to MongoDB vCore\n",
    "vector_store: AzureCosmosDBVectorSearch = AzureCosmosDBVectorSearch.from_documents(\n",
    "    json_data,\n",
    "    azure_openai_embeddings,\n",
    "    collection=collection,\n",
    "    index_name=index_name,\n",
    ")"
   ]
  },
  {
   "cell_type": "code",
   "execution_count": 10,
   "metadata": {},
   "outputs": [
    {
     "name": "stderr",
     "output_type": "stream",
     "text": [
      "/home/john/repos/Cosmic-Food-RAG-app/.venv/lib/python3.10/site-packages/langchain_community/vectorstores/azure_cosmos_db.py:146: UserWarning: You appear to be connected to a CosmosDB cluster. For more information regarding feature compatibility and support please visit https://www.mongodb.com/supportability/cosmosdb\n",
      "  client: MongoClient = MongoClient(connection_string, appname=appname)\n"
     ]
    }
   ],
   "source": [
    "from langchain_community.vectorstores.azure_cosmos_db import AzureCosmosDBVectorSearch\n",
    "\n",
    "# Run this to connect to the vector store\n",
    "vector_store: AzureCosmosDBVectorSearch =  AzureCosmosDBVectorSearch.from_connection_string(\n",
    "    connection_string=mongo_connection_string,\n",
    "    namespace=f\"{database_name}.{collection_name}\",\n",
    "    embedding=azure_openai_embeddings,\n",
    ")"
   ]
  },
  {
   "cell_type": "markdown",
   "metadata": {},
   "source": [
    "# Create Vector Index (HNSW)"
   ]
  },
  {
   "cell_type": "code",
   "execution_count": 11,
   "metadata": {},
   "outputs": [
    {
     "data": {
      "text/plain": [
       "{'raw': {'defaultShard': {'numIndexesBefore': 3,\n",
       "   'numIndexesAfter': 3,\n",
       "   'createdCollectionAutomatically': False,\n",
       "   'note': 'all indexes already exist',\n",
       "   'ok': 1}},\n",
       " 'ok': 1}"
      ]
     },
     "execution_count": 11,
     "metadata": {},
     "output_type": "execute_result"
    }
   ],
   "source": [
    "from langchain_community.vectorstores.azure_cosmos_db import (\n",
    "    CosmosDBSimilarityType,\n",
    "    CosmosDBVectorSearchType,\n",
    ")\n",
    "\n",
    "# Read more about these variables in detail here. https://learn.microsoft.com/en-us/azure/cosmos-db/mongodb/vcore/vector-search\n",
    "num_lists = 100\n",
    "dimensions = 1536\n",
    "similarity_algorithm = CosmosDBSimilarityType.COS\n",
    "kind = CosmosDBVectorSearchType.VECTOR_HNSW\n",
    "m = 16\n",
    "ef_construction = 64\n",
    "\n",
    "# Create the collection and the index\n",
    "vector_store.create_index(\n",
    "    num_lists, dimensions, similarity_algorithm, kind, m, ef_construction\n",
    ")"
   ]
  },
  {
   "cell_type": "markdown",
   "metadata": {},
   "source": [
    "## Test Vector Search Flow"
   ]
  },
  {
   "cell_type": "code",
   "execution_count": 12,
   "metadata": {},
   "outputs": [
    {
     "name": "stdout",
     "output_type": "stream",
     "text": [
      "{\"category\": \"Sandwiches\", \"name\": \"Bacon Turkey Bravo Sandwich\", \"description\": \"Whole (1010 Cal.), Half (500 Cal.) Oven-roasted turkey breast raised without antibiotics, Applewood-smoked bacon, smoked Gouda, emerald greens, vine-ripened tomatoes, signature sauce , salt and pepper on Tomato Basil Bread. Allergens: Contains Wheat, Milk, Egg\", \"price\": \"8.79 USD\"}\n"
     ]
    }
   ],
   "source": [
    "query = \"Beef Bacon\"\n",
    "docs = vector_store.similarity_search(query)\n",
    "print(docs[0].page_content)"
   ]
  },
  {
   "cell_type": "markdown",
   "metadata": {},
   "source": [
    "# Initialize the Chat Client"
   ]
  },
  {
   "cell_type": "code",
   "execution_count": 13,
   "metadata": {},
   "outputs": [],
   "source": [
    "from langchain_openai import AzureChatOpenAI\n",
    "\n",
    "openai_chat_model = os.getenv(\"AZURE_OPENAI_CHAT_MODEL_NAME\", \"gpt-35-turbo\")\n",
    "openai_chat_deployment= os.getenv(\"AZURE_OPENAI_CHAT_DEPLOYMENT_NAME\", \"chat-gpt\")\n",
    "\n",
    "azure_openai_chat: AzureChatOpenAI = AzureChatOpenAI(\n",
    "    model=openai_chat_model,\n",
    "    azure_deployment=openai_chat_deployment,\n",
    ")"
   ]
  },
  {
   "cell_type": "code",
   "execution_count": 14,
   "metadata": {},
   "outputs": [
    {
     "name": "stdout",
     "output_type": "stream",
     "text": [
      "Why did the tomato turn red? Because it saw the salad dressing!\n"
     ]
    }
   ],
   "source": [
    "# Test the chat flow\n",
    "chat_response = azure_openai_chat.invoke(\"Tell me a joke\")\n",
    "print(chat_response.content)"
   ]
  },
  {
   "cell_type": "code",
   "execution_count": 21,
   "metadata": {},
   "outputs": [
    {
     "name": "stdout",
     "output_type": "stream",
     "text": [
      "Education is the backbone of society. It is the foundation that enables individuals to acquire knowledge and skills, and it is through education that individuals are able to grow and develop. Education is not just about acquiring knowledge; it is also about learning how to think critically, how to communicate effectively, and how to become productive members of society. In this essay, I will explore the importance of education, the challenges facing education, and the future of education.\n",
      "\n",
      "The Importance of Education\n",
      "\n",
      "Education is important because it provides individuals with the knowledge and skills they need to succeed in life. Education enables individuals to acquire the skills they need to enter the workforce and to become productive members of society. It also provides individuals with the knowledge they need to make informed decisions about their lives, including decisions about their health, finances, and relationships.\n",
      "\n",
      "Education is also important because it promotes social mobility. Education provides individuals with the opportunity to move up the social ladder, regardless of their background. Education is the great equalizer, and it is through education that individuals can overcome the barriers of poverty, discrimination, and inequality.\n",
      "\n",
      "Challenges Facing Education\n",
      "\n",
      "Despite the importance of education, there are many challenges facing education today. One of the biggest challenges is the lack of funding. Education is expensive, and many schools and universities struggle to provide the resources they need to provide a quality education to their students. This lack of funding often leads to overcrowded classrooms, outdated materials and technology, and a lack of opportunities for students.\n",
      "\n",
      "Another challenge facing education is the lack of access to education for marginalized communities. Many individuals, particularly those living in poverty or in rural areas, do not have access to quality education. This lack of access often perpetuates the cycle of poverty and inequality, as individuals without education are unable to secure jobs that pay a living wage.\n",
      "\n",
      "Finally, there is also a challenge of the quality of education. While some schools and universities provide a quality education, others do not. This often leads to a disparity in the quality of education that students receive, and this disparity can lead to a lack of opportunities for some individuals.\n",
      "\n",
      "The Future of Education\n",
      "\n",
      "Despite the challenges facing education, there is also a bright future for education. With advances in technology, education is becoming more accessible than ever before. Online learning platforms, such as Coursera and Khan Academy, are providing individuals with access to quality education from the comfort of their own homes.\n",
      "\n",
      "In addition, there is also a growing emphasis on experiential learning. Experiential learning involves learning through doing, and it is becoming an increasingly popular method of education. This method of education provides students with the opportunity to apply what they have learned in real-world situations, which can lead to a deeper understanding of the material.\n",
      "\n",
      "Finally, there is also a growing emphasis on lifelong learning. Lifelong learning involves the idea that education is not just something that happens in school; it is something that happens throughout our lives. Lifelong learning encourages individuals to continue learning and growing throughout their lives, which can lead to personal and professional growth.\n",
      "\n",
      "Conclusion\n",
      "\n",
      "Education is the foundation of society. It provides individuals with the knowledge and skills they need to succeed in life, and it is through education that individuals can overcome the barriers of poverty, discrimination, and inequality. While there are many challenges facing education, there is also a bright future for education. With advances in technology, experiential learning, and lifelong learning, education is becoming more accessible and more effective than ever before. As we move forward, it is important to continue to invest in education and to ensure that everyone has access to quality education."
     ]
    }
   ],
   "source": [
    "chat_response = azure_openai_chat.astream(\"Write a 500 words essay about education.\")\n",
    "\n",
    "async for response in chat_response:\n",
    "    print(response.content, end=\"\")"
   ]
  },
  {
   "cell_type": "markdown",
   "metadata": {},
   "source": [
    "# Create RAG Function"
   ]
  },
  {
   "cell_type": "code",
   "execution_count": 25,
   "metadata": {},
   "outputs": [],
   "source": [
    "from langchain.prompts import ChatPromptTemplate\n",
    "from langchain_core.prompts import MessagesPlaceholder\n",
    "\n",
    "history_prompt = ChatPromptTemplate.from_messages(\n",
    "    [\n",
    "        MessagesPlaceholder(variable_name=\"chat_history\"),\n",
    "        (\"user\", \"{input}\"),\n",
    "        (\n",
    "            \"user\",\n",
    "            \"\"\"Given the above conversation,\n",
    "            generate a search query to look up to get information relevant to the conversation\"\"\",\n",
    "        ),\n",
    "    ]\n",
    ")\n",
    "\n",
    "context_prompt = ChatPromptTemplate.from_messages(\n",
    "    [\n",
    "        (\"system\", \"Answer the user's questions based on the below context:\\n\\n{context}\"),\n",
    "        MessagesPlaceholder(variable_name=\"chat_history\"),\n",
    "        (\"user\", \"{input}\"),\n",
    "    ]\n",
    ")"
   ]
  },
  {
   "cell_type": "code",
   "execution_count": 26,
   "metadata": {},
   "outputs": [],
   "source": [
    "limit = 3\n",
    "score_threshold = 0.5\n",
    "search_type = \"similarity\""
   ]
  },
  {
   "cell_type": "code",
   "execution_count": 27,
   "metadata": {},
   "outputs": [],
   "source": [
    "from langchain.chains.combine_documents import create_stuff_documents_chain\n",
    "from langchain.chains.history_aware_retriever import create_history_aware_retriever\n",
    "from langchain.chains.retrieval import create_retrieval_chain\n",
    "from langchain_core.runnables import Runnable\n",
    "\n",
    "vector_store_retriever = vector_store.as_retriever(\n",
    "    search_type=search_type, search_kwargs={\"k\": limit, \"score_threshold\": score_threshold}\n",
    ")\n",
    "\n",
    "\n",
    "retriever_chain = create_history_aware_retriever(azure_openai_chat, vector_store_retriever, history_prompt)\n",
    "\n",
    "context_chain = create_stuff_documents_chain(llm=azure_openai_chat, prompt=context_prompt)\n",
    "\n",
    "rag_chain: Runnable = create_retrieval_chain(\n",
    "    retriever=retriever_chain,\n",
    "    combine_docs_chain=context_chain,\n",
    ")"
   ]
  },
  {
   "cell_type": "markdown",
   "metadata": {},
   "source": [
    "## Test RAG Flow"
   ]
  },
  {
   "cell_type": "code",
   "execution_count": 31,
   "metadata": {},
   "outputs": [
    {
     "name": "stdout",
     "output_type": "stream",
     "text": [
      "Yes, we have two vegan options: the Beyond Burger and the Tofu Salad Sandwich.\n"
     ]
    }
   ],
   "source": [
    "first_question = \"Do you have any vegan options?\"\n",
    "chat_history = []\n",
    "response = rag_chain.invoke({\"input\": first_question, \"chat_history\": chat_history})\n",
    "print(response['answer'])"
   ]
  },
  {
   "cell_type": "code",
   "execution_count": 32,
   "metadata": {},
   "outputs": [],
   "source": [
    "from langchain_core.messages import HumanMessage\n",
    "\n",
    "chat_history.extend([HumanMessage(content=first_question), response[\"answer\"]])\n",
    "\n",
    "second_question = \"What did I just ask you about?\"\n",
    "response = rag_chain.invoke({\"input\": second_question, \"chat_history\": chat_history})"
   ]
  },
  {
   "cell_type": "code",
   "execution_count": 33,
   "metadata": {},
   "outputs": [
    {
     "name": "stdout",
     "output_type": "stream",
     "text": [
      "You asked if there are any vegan options available.\n"
     ]
    }
   ],
   "source": [
    "print(response['answer'])"
   ]
  },
  {
   "cell_type": "markdown",
   "metadata": {},
   "source": [
    "# Test with Gradio"
   ]
  },
  {
   "cell_type": "code",
   "execution_count": null,
   "metadata": {},
   "outputs": [],
   "source": [
    "%pip install ipywidgets gradio"
   ]
  },
  {
   "cell_type": "code",
   "execution_count": 20,
   "metadata": {},
   "outputs": [],
   "source": [
    "import gradio as gr\n",
    "\n",
    "\n",
    "def setup_gradio_interface(chain):    \n",
    "    with gr.Blocks() as demo_interface:\n",
    "        chatbot = gr.Chatbot(label=\"Food Ordering System\")\n",
    "        chat_history = gr.State([])\n",
    "        lc_chat_history = gr.State([])\n",
    "        msg = gr.Textbox(label=\"Your question\")\n",
    "        gr.ClearButton([msg, chatbot])\n",
    "  \n",
    "        def fetch_response(message, chat_history, lc_chat_history):\n",
    "            response = chain.invoke({\"question\": message, \"chat_history\": lc_chat_history})\n",
    "            lc_chat_history.append((message, response['answer']))\n",
    "            chat_history.append([message, response[\"answer\"]])\n",
    "            return \"\", chat_history, lc_chat_history\n",
    "\n",
    "        msg.submit(fetch_response, inputs=[msg, chatbot, lc_chat_history], outputs=[msg, chatbot, lc_chat_history])\n",
    "    \n",
    "    return demo_interface"
   ]
  },
  {
   "cell_type": "code",
   "execution_count": null,
   "metadata": {},
   "outputs": [
    {
     "name": "stdout",
     "output_type": "stream",
     "text": [
      "Running on local URL:  http://127.0.0.1:7860\n",
      "\n",
      "To create a public link, set `share=True` in `launch()`.\n"
     ]
    },
    {
     "data": {
      "text/html": [
       "<div><iframe src=\"http://127.0.0.1:7860/\" width=\"100%\" height=\"500\" allow=\"autoplay; camera; microphone; clipboard-read; clipboard-write;\" frameborder=\"0\" allowfullscreen></iframe></div>"
      ],
      "text/plain": [
       "<IPython.core.display.HTML object>"
      ]
     },
     "metadata": {},
     "output_type": "display_data"
    },
    {
     "data": {
      "text/plain": []
     },
     "execution_count": 21,
     "metadata": {},
     "output_type": "execute_result"
    }
   ],
   "source": [
    "food_ordering_demo = setup_gradio_interface(rag_chain)\n",
    "food_ordering_demo.launch()"
   ]
  },
  {
   "cell_type": "markdown",
   "metadata": {},
   "source": [
    "# Inline Embeddings Generation"
   ]
  },
  {
   "cell_type": "code",
   "execution_count": null,
   "metadata": {},
   "outputs": [],
   "source": [
    "mongo_connection_string = os.getenv(\"AZURE_COSMOS_CONNECTION_STRING_AUTO_EMBEDDING\", \"conn_string\")\n",
    "mongo_client = MongoClient(mongo_connection_string)\n",
    "\n",
    "db_name = os.getenv(\"AZURE_COSMOS_DATABASE_NAME\", \"DatabaseName\")\n",
    "db = mongo_client[db_name]\n",
    "\n",
    "collection_name = os.getenv(\"AZURE_COSMOS_COLLECTION_NAME\", \"collectionName\")\n",
    "index_name = os.getenv(\"AZURE_COSMOS_INDEX_NAME\", \"indexName\")\n",
    "\n",
    "collection = db[collection_name]\n",
    "\n",
    "# Insert data\n",
    "docs = [json.loads(item.page_content) for item in json_data[0:20]]\n",
    "for doc in docs:\n",
    "    collection.insert_one(doc)\n",
    "\n",
    "# Inline generate embeddings\n",
    "collection.update_many({}, {\"$generateEmbeddings\": {\"description\": \"embeddings\"}})\n",
    "\n",
    "# Create HNSW index\n",
    "createIndexCommand = {\n",
    "    \"createIndexes\": collection_name,\n",
    "    \"indexes\": [\n",
    "        {\n",
    "            \"key\": {\"embeddings\": \"cosmosSearch\"},\n",
    "            \"name\": \"hnsw_index\",\n",
    "            \"cosmosSearchOptions\": {\n",
    "                \"kind\": \"vector-hnsw\",\n",
    "                \"m\": 4,\n",
    "                \"efConstruction\": 16,\n",
    "                \"similarity\": \"COS\",\n",
    "                \"dimensions\": 1536\n",
    "            }\n",
    "        }\n",
    "    ]\n",
    "}\n",
    "db.command(createIndexCommand)\n"
   ]
  },
  {
   "cell_type": "code",
   "execution_count": 10,
   "metadata": {},
   "outputs": [
    {
     "name": "stdout",
     "output_type": "stream",
     "text": [
      "[Score: 1.000] Ashunti`Way Smoothie: Fruit n greens, mango bananas, tropical fruit blend, dragon fruit mix, mango, bananas, pineapples, apples, and spinach. Special green with strawberry bananas juice blend . Our fruity tasty smoothies are blended to perfection.\n",
      "[Score: 0.986] Dayton 500 Smoothie: Tropical fruit blend, dragon fruit mix, mango, bananas, pineapples, apples. Special green juice blend. Our fruity tasty smoothies are blended to perfection.\n",
      "[Score: 0.973] Tongue Teaser Smoothie: Tropical fruit blend, dragon fruit, pineapples, bananas, mango, apples, spinach, ginger powder. Special green blend, pineapple and ginger smoothies. Our fruity tasty smoothies are blended to perfection.\n",
      "[Score: 0.967] Tejay Impact Smoothie: Tropical fruit blend, dragon fruit mix, mango, bananas, pineapples, apples, and spinach. Special blue juice blend smoothies.\n",
      "[Score: 0.961] Jimmy Jam Smoothie: Berries n kale, strawberries, bananas, blueberries kale, tropical fruit blend, and dragon fruit. Our fruity tasty smoothies are blended to perfection.\n"
     ]
    }
   ],
   "source": [
    "search_pipeline = [ \n",
    "    { \"$search\": { \"cosmosSearch\": { \"query\": docs[0][\"description\"], \"k\": 5, \"path\": \"embeddings\", \"efSearch\": 100 }}} , \n",
    "    { \"$project\": { \"similarityScore\": { \"$meta\": \"searchScore\" }, \"_id\":0, \"name\":1, \"description\":1 } }\n",
    "]\n",
    "\n",
    "results = collection.aggregate(search_pipeline)\n",
    "\n",
    "for result in results:\n",
    "    print(f\"[Score: {result['similarityScore']:.3f}] {result['name']}: {result['description']}\")"
   ]
  }
 ],
 "metadata": {
  "kernelspec": {
   "display_name": "Python 3 (ipykernel)",
   "language": "python",
   "name": "python3"
  },
  "language_info": {
   "codemirror_mode": {
    "name": "ipython",
    "version": 3
   },
   "file_extension": ".py",
   "mimetype": "text/x-python",
   "name": "python",
   "nbconvert_exporter": "python",
   "pygments_lexer": "ipython3",
   "version": "3.10.12"
  }
 },
 "nbformat": 4,
 "nbformat_minor": 4
}
